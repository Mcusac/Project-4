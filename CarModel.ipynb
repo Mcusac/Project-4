{
 "cells": [
  {
   "cell_type": "code",
   "execution_count": 1,
   "metadata": {},
   "outputs": [],
   "source": [
    "import matplotlib.pyplot as plt\n",
    "import numpy as np\n",
    "from sklearn.datasets import make_regression\n",
    "from sklearn.linear_model import LinearRegression\n",
    "from sklearn.model_selection import train_test_split\n",
    "import pandas as pd\n",
    "import sqlite3"
   ]
  },
  {
   "cell_type": "code",
   "execution_count": 2,
   "metadata": {},
   "outputs": [
    {
     "data": {
      "text/html": [
       "<div>\n",
       "<style scoped>\n",
       "    .dataframe tbody tr th:only-of-type {\n",
       "        vertical-align: middle;\n",
       "    }\n",
       "\n",
       "    .dataframe tbody tr th {\n",
       "        vertical-align: top;\n",
       "    }\n",
       "\n",
       "    .dataframe thead th {\n",
       "        text-align: right;\n",
       "    }\n",
       "</style>\n",
       "<table border=\"1\" class=\"dataframe\">\n",
       "  <thead>\n",
       "    <tr style=\"text-align: right;\">\n",
       "      <th></th>\n",
       "      <th>Unnamed: 0</th>\n",
       "      <th>year</th>\n",
       "      <th>make</th>\n",
       "      <th>model</th>\n",
       "      <th>final_price</th>\n",
       "      <th>mileage</th>\n",
       "      <th>engine</th>\n",
       "      <th>zipcode</th>\n",
       "    </tr>\n",
       "  </thead>\n",
       "  <tbody>\n",
       "    <tr>\n",
       "      <th>0</th>\n",
       "      <td>1</td>\n",
       "      <td>1997</td>\n",
       "      <td>Chevrolet</td>\n",
       "      <td>Chevrolet Suburban</td>\n",
       "      <td>$17,000</td>\n",
       "      <td>67000</td>\n",
       "      <td>5.7L Vortec V8</td>\n",
       "      <td>60069</td>\n",
       "    </tr>\n",
       "    <tr>\n",
       "      <th>1</th>\n",
       "      <td>2</td>\n",
       "      <td>1990</td>\n",
       "      <td>Porsche</td>\n",
       "      <td>Porsche 964 911</td>\n",
       "      <td>$225,000</td>\n",
       "      <td>1000</td>\n",
       "      <td>3.8-Liter Flat-Six</td>\n",
       "      <td>84790</td>\n",
       "    </tr>\n",
       "    <tr>\n",
       "      <th>2</th>\n",
       "      <td>3</td>\n",
       "      <td>2003</td>\n",
       "      <td>Toyota</td>\n",
       "      <td>Toyota Pickup</td>\n",
       "      <td>$24,750</td>\n",
       "      <td>116000</td>\n",
       "      <td>3.4-Liter DOHC V6</td>\n",
       "      <td>90027</td>\n",
       "    </tr>\n",
       "    <tr>\n",
       "      <th>3</th>\n",
       "      <td>5</td>\n",
       "      <td>1992</td>\n",
       "      <td>Volkswagen</td>\n",
       "      <td>Volkswagen Golf/Rabbit Cabriolet</td>\n",
       "      <td>$10,750</td>\n",
       "      <td>100000</td>\n",
       "      <td>1.8-Liter Inline-Four</td>\n",
       "      <td>98208</td>\n",
       "    </tr>\n",
       "    <tr>\n",
       "      <th>4</th>\n",
       "      <td>6</td>\n",
       "      <td>2008</td>\n",
       "      <td>Toyota</td>\n",
       "      <td>Toyota FJ Cruiser</td>\n",
       "      <td>$32,500</td>\n",
       "      <td>9000</td>\n",
       "      <td>4.0-Liter V6</td>\n",
       "      <td>57108</td>\n",
       "    </tr>\n",
       "  </tbody>\n",
       "</table>\n",
       "</div>"
      ],
      "text/plain": [
       "   Unnamed: 0  year        make                             model final_price  \\\n",
       "0           1  1997   Chevrolet                Chevrolet Suburban     $17,000   \n",
       "1           2  1990     Porsche                   Porsche 964 911    $225,000   \n",
       "2           3  2003      Toyota                     Toyota Pickup     $24,750   \n",
       "3           5  1992  Volkswagen  Volkswagen Golf/Rabbit Cabriolet     $10,750   \n",
       "4           6  2008      Toyota                 Toyota FJ Cruiser     $32,500   \n",
       "\n",
       "   mileage                 engine  zipcode  \n",
       "0    67000         5.7L Vortec V8    60069  \n",
       "1     1000    3.8-Liter Flat-Six     84790  \n",
       "2   116000      3.4-Liter DOHC V6    90027  \n",
       "3   100000  1.8-Liter Inline-Four    98208  \n",
       "4     9000           4.0-Liter V6    57108  "
      ]
     },
     "execution_count": 2,
     "metadata": {},
     "output_type": "execute_result"
    }
   ],
   "source": [
    "database = \"data.sqlite\"\n",
    "\n",
    "conn = sqlite3.connect(database)\n",
    "\n",
    "train_df = pd.read_sql(\"select * from new_table_name\", con=conn)\n",
    "train_df.head()"
   ]
  },
  {
   "cell_type": "code",
   "execution_count": 3,
   "metadata": {},
   "outputs": [],
   "source": [
    "conn.close()"
   ]
  },
  {
   "cell_type": "code",
   "execution_count": 4,
   "metadata": {},
   "outputs": [
    {
     "data": {
      "text/plain": [
       "Unnamed: 0      int64\n",
       "year            int64\n",
       "make           object\n",
       "model          object\n",
       "final_price    object\n",
       "mileage         int64\n",
       "engine         object\n",
       "zipcode         int64\n",
       "dtype: object"
      ]
     },
     "execution_count": 4,
     "metadata": {},
     "output_type": "execute_result"
    }
   ],
   "source": [
    "train_df.dtypes"
   ]
  },
  {
   "cell_type": "code",
   "execution_count": 5,
   "metadata": {},
   "outputs": [],
   "source": [
    "train_df = train_df[train_df.year <= 2200]\n",
    "train_df = train_df[train_df.mileage <= 300000]"
   ]
  },
  {
   "cell_type": "code",
   "execution_count": 6,
   "metadata": {},
   "outputs": [],
   "source": [
    "train_df['final_price']=(train_df['final_price'].replace( '[\\$,)]','', regex=True )\n",
    "               .replace( '[(]','-',   regex=True ).astype(float))"
   ]
  },
  {
   "cell_type": "code",
   "execution_count": 7,
   "metadata": {},
   "outputs": [
    {
     "data": {
      "text/plain": [
       "Unnamed: 0       int64\n",
       "year             int64\n",
       "make            object\n",
       "model           object\n",
       "final_price    float64\n",
       "mileage          int64\n",
       "engine          object\n",
       "zipcode          int64\n",
       "dtype: object"
      ]
     },
     "execution_count": 7,
     "metadata": {},
     "output_type": "execute_result"
    }
   ],
   "source": [
    "train_df.dtypes"
   ]
  },
  {
   "cell_type": "code",
   "execution_count": 8,
   "metadata": {},
   "outputs": [],
   "source": [
    "train_X = train_df.drop(columns='final_price')\n",
    "train_y = train_df['final_price']"
   ]
  },
  {
   "cell_type": "markdown",
   "metadata": {},
   "source": [
    "train_df.plot(\n",
    "   x='mileage', \n",
    "   y=train_y, \n",
    "   kind='scatter'\n",
    ")\n",
    "\n",
    "plt.show()"
   ]
  },
  {
   "cell_type": "code",
   "execution_count": 9,
   "metadata": {},
   "outputs": [
    {
     "data": {
      "text/html": [
       "<div>\n",
       "<style scoped>\n",
       "    .dataframe tbody tr th:only-of-type {\n",
       "        vertical-align: middle;\n",
       "    }\n",
       "\n",
       "    .dataframe tbody tr th {\n",
       "        vertical-align: top;\n",
       "    }\n",
       "\n",
       "    .dataframe thead th {\n",
       "        text-align: right;\n",
       "    }\n",
       "</style>\n",
       "<table border=\"1\" class=\"dataframe\">\n",
       "  <thead>\n",
       "    <tr style=\"text-align: right;\">\n",
       "      <th></th>\n",
       "      <th>Unnamed: 0</th>\n",
       "      <th>year</th>\n",
       "      <th>mileage</th>\n",
       "      <th>zipcode</th>\n",
       "      <th>make_000s</th>\n",
       "      <th>make_020s</th>\n",
       "      <th>make_940s</th>\n",
       "      <th>make_950s</th>\n",
       "      <th>make_960s</th>\n",
       "      <th>make_970s</th>\n",
       "      <th>...</th>\n",
       "      <th>engine_Twin-Turbocharged 6.0-Liter V12</th>\n",
       "      <th>engine_Twin-Turbocharged 6.0-Liter W12</th>\n",
       "      <th>engine_Twin-Turbocharged EcoBoost 2.7L V6</th>\n",
       "      <th>engine_Twin-turbocharged 3.6L Flat-Six</th>\n",
       "      <th>engine_VIP Parking</th>\n",
       "      <th>engine_Whipple-Supercharged 5.4-Liter V8</th>\n",
       "      <th>engine_XPAG 1,250cc Inline-Four</th>\n",
       "      <th>engine_XPAG Inline-Four</th>\n",
       "      <th>engine_Yellow &amp; Black Paint</th>\n",
       "      <th>engine_Z/28 Equipment Package</th>\n",
       "    </tr>\n",
       "  </thead>\n",
       "  <tbody>\n",
       "    <tr>\n",
       "      <th>0</th>\n",
       "      <td>1</td>\n",
       "      <td>1997</td>\n",
       "      <td>67000</td>\n",
       "      <td>60069</td>\n",
       "      <td>0</td>\n",
       "      <td>0</td>\n",
       "      <td>0</td>\n",
       "      <td>0</td>\n",
       "      <td>0</td>\n",
       "      <td>0</td>\n",
       "      <td>...</td>\n",
       "      <td>0</td>\n",
       "      <td>0</td>\n",
       "      <td>0</td>\n",
       "      <td>0</td>\n",
       "      <td>0</td>\n",
       "      <td>0</td>\n",
       "      <td>0</td>\n",
       "      <td>0</td>\n",
       "      <td>0</td>\n",
       "      <td>0</td>\n",
       "    </tr>\n",
       "    <tr>\n",
       "      <th>1</th>\n",
       "      <td>2</td>\n",
       "      <td>1990</td>\n",
       "      <td>1000</td>\n",
       "      <td>84790</td>\n",
       "      <td>0</td>\n",
       "      <td>0</td>\n",
       "      <td>0</td>\n",
       "      <td>0</td>\n",
       "      <td>0</td>\n",
       "      <td>0</td>\n",
       "      <td>...</td>\n",
       "      <td>0</td>\n",
       "      <td>0</td>\n",
       "      <td>0</td>\n",
       "      <td>0</td>\n",
       "      <td>0</td>\n",
       "      <td>0</td>\n",
       "      <td>0</td>\n",
       "      <td>0</td>\n",
       "      <td>0</td>\n",
       "      <td>0</td>\n",
       "    </tr>\n",
       "    <tr>\n",
       "      <th>2</th>\n",
       "      <td>3</td>\n",
       "      <td>2003</td>\n",
       "      <td>116000</td>\n",
       "      <td>90027</td>\n",
       "      <td>0</td>\n",
       "      <td>0</td>\n",
       "      <td>0</td>\n",
       "      <td>0</td>\n",
       "      <td>0</td>\n",
       "      <td>0</td>\n",
       "      <td>...</td>\n",
       "      <td>0</td>\n",
       "      <td>0</td>\n",
       "      <td>0</td>\n",
       "      <td>0</td>\n",
       "      <td>0</td>\n",
       "      <td>0</td>\n",
       "      <td>0</td>\n",
       "      <td>0</td>\n",
       "      <td>0</td>\n",
       "      <td>0</td>\n",
       "    </tr>\n",
       "    <tr>\n",
       "      <th>3</th>\n",
       "      <td>5</td>\n",
       "      <td>1992</td>\n",
       "      <td>100000</td>\n",
       "      <td>98208</td>\n",
       "      <td>0</td>\n",
       "      <td>0</td>\n",
       "      <td>0</td>\n",
       "      <td>0</td>\n",
       "      <td>0</td>\n",
       "      <td>0</td>\n",
       "      <td>...</td>\n",
       "      <td>0</td>\n",
       "      <td>0</td>\n",
       "      <td>0</td>\n",
       "      <td>0</td>\n",
       "      <td>0</td>\n",
       "      <td>0</td>\n",
       "      <td>0</td>\n",
       "      <td>0</td>\n",
       "      <td>0</td>\n",
       "      <td>0</td>\n",
       "    </tr>\n",
       "    <tr>\n",
       "      <th>4</th>\n",
       "      <td>6</td>\n",
       "      <td>2008</td>\n",
       "      <td>9000</td>\n",
       "      <td>57108</td>\n",
       "      <td>0</td>\n",
       "      <td>0</td>\n",
       "      <td>0</td>\n",
       "      <td>0</td>\n",
       "      <td>0</td>\n",
       "      <td>0</td>\n",
       "      <td>...</td>\n",
       "      <td>0</td>\n",
       "      <td>0</td>\n",
       "      <td>0</td>\n",
       "      <td>0</td>\n",
       "      <td>0</td>\n",
       "      <td>0</td>\n",
       "      <td>0</td>\n",
       "      <td>0</td>\n",
       "      <td>0</td>\n",
       "      <td>0</td>\n",
       "    </tr>\n",
       "  </tbody>\n",
       "</table>\n",
       "<p>5 rows × 1242 columns</p>\n",
       "</div>"
      ],
      "text/plain": [
       "   Unnamed: 0  year  mileage  zipcode  make_000s  make_020s  make_940s  \\\n",
       "0           1  1997    67000    60069          0          0          0   \n",
       "1           2  1990     1000    84790          0          0          0   \n",
       "2           3  2003   116000    90027          0          0          0   \n",
       "3           5  1992   100000    98208          0          0          0   \n",
       "4           6  2008     9000    57108          0          0          0   \n",
       "\n",
       "   make_950s  make_960s  make_970s  ...  \\\n",
       "0          0          0          0  ...   \n",
       "1          0          0          0  ...   \n",
       "2          0          0          0  ...   \n",
       "3          0          0          0  ...   \n",
       "4          0          0          0  ...   \n",
       "\n",
       "   engine_Twin-Turbocharged 6.0-Liter V12  \\\n",
       "0                                       0   \n",
       "1                                       0   \n",
       "2                                       0   \n",
       "3                                       0   \n",
       "4                                       0   \n",
       "\n",
       "   engine_Twin-Turbocharged 6.0-Liter W12  \\\n",
       "0                                       0   \n",
       "1                                       0   \n",
       "2                                       0   \n",
       "3                                       0   \n",
       "4                                       0   \n",
       "\n",
       "   engine_Twin-Turbocharged EcoBoost 2.7L V6  \\\n",
       "0                                          0   \n",
       "1                                          0   \n",
       "2                                          0   \n",
       "3                                          0   \n",
       "4                                          0   \n",
       "\n",
       "   engine_Twin-turbocharged 3.6L Flat-Six  engine_VIP Parking  \\\n",
       "0                                       0                   0   \n",
       "1                                       0                   0   \n",
       "2                                       0                   0   \n",
       "3                                       0                   0   \n",
       "4                                       0                   0   \n",
       "\n",
       "   engine_Whipple-Supercharged 5.4-Liter V8  engine_XPAG 1,250cc Inline-Four  \\\n",
       "0                                         0                                0   \n",
       "1                                         0                                0   \n",
       "2                                         0                                0   \n",
       "3                                         0                                0   \n",
       "4                                         0                                0   \n",
       "\n",
       "   engine_XPAG Inline-Four  engine_Yellow & Black Paint  \\\n",
       "0                        0                            0   \n",
       "1                        0                            0   \n",
       "2                        0                            0   \n",
       "3                        0                            0   \n",
       "4                        0                            0   \n",
       "\n",
       "   engine_Z/28 Equipment Package  \n",
       "0                              0  \n",
       "1                              0  \n",
       "2                              0  \n",
       "3                              0  \n",
       "4                              0  \n",
       "\n",
       "[5 rows x 1242 columns]"
      ]
     },
     "execution_count": 9,
     "metadata": {},
     "output_type": "execute_result"
    }
   ],
   "source": [
    "# Convert categorical data to numeric and separate target feature for training data\n",
    "train_df1 = pd.get_dummies(train_X)\n",
    "train_df1.head()"
   ]
  },
  {
   "cell_type": "code",
   "execution_count": 10,
   "metadata": {},
   "outputs": [
    {
     "data": {
      "text/plain": [
       "dtype('float64')"
      ]
     },
     "execution_count": 10,
     "metadata": {},
     "output_type": "execute_result"
    }
   ],
   "source": [
    "train_y.dtypes"
   ]
  },
  {
   "cell_type": "code",
   "execution_count": 11,
   "metadata": {},
   "outputs": [
    {
     "name": "stdout",
     "output_type": "stream",
     "text": [
      "Model Score: 0.968095314211466\n"
     ]
    }
   ],
   "source": [
    "model = LinearRegression()\n",
    "model.fit(train_df1, train_y)\n",
    "print(f'Model Score: {model.score(train_df1, train_y)}')"
   ]
  },
  {
   "cell_type": "code",
   "execution_count": 12,
   "metadata": {},
   "outputs": [
    {
     "data": {
      "image/png": "[encoded data removed]",
      "text/plain": [
       "<Figure size 432x288 with 1 Axes>"
      ]
     },
     "metadata": {
      "needs_background": "light"
     },
     "output_type": "display_data"
    }
   ],
   "source": [
    "predictions = model.predict(train_df1)\n",
    "# Plot Residuals\n",
    "plt.scatter(predictions, predictions - train_y)\n",
    "plt.hlines(y=0, xmin=predictions.min(), xmax=predictions.max())\n",
    "plt.show()"
   ]
  },
  {
   "cell_type": "code",
   "execution_count": 14,
   "metadata": {},
   "outputs": [
    {
     "name": "stdout",
     "output_type": "stream",
     "text": [
      "Weight coefficients:  [-2.98276978e-01  9.35597292e+02 -7.32618400e-02 ...  1.19243041e+09\n",
      "  3.71564854e+10 -1.29223745e+09]\n",
      "y-axis intercept:  -37158307115.839554\n",
      "True output: 17000.0\n",
      "Predicted output: 17000.94451904297\n",
      "Prediction Error: 0.94451904296875\n"
     ]
    }
   ],
   "source": [
    "print('Weight coefficients: ', model.coef_)\n",
    "print('y-axis intercept: ', model.intercept_)\n",
    "print(f\"True output: {train_y[0]}\")\n",
    "print(f\"Predicted output: {predictions[0]}\")\n",
    "print(f\"Prediction Error: {predictions[0]-train_y[0]}\")"
   ]
  },
  {
   "cell_type": "code",
   "execution_count": 16,
   "metadata": {},
   "outputs": [],
   "source": [
    "# x_min = train_df1.min()\n",
    "# x_max = train_df1.max()\n",
    "# y_min_actual = train_y.min()\n",
    "# y_max_actual = train_y.max()\n",
    "\n",
    "# y_min = 101.896225057 + (model.coef_ * x_min)\n",
    "# y_max = 101.896225057 + (model.coef_ * x_max)\n",
    "# print(f\"Actual Min Value: {y_min_actual}\")\n",
    "# print(f\"Calculated Min Value: {y_min}\")\n",
    "# print(f\"Actual Max Value: {y_max_actual}\")\n",
    "# print(f\"Calculated Max Value: {y_max}\")\n",
    "\n",
    "# y_min_predicted = model.predict([[x_min]])\n",
    "# y_max_predicted = model.predict([[x_max]])\n",
    "# print(f\"Actual Min Value: {y_min_actual}\")\n",
    "# print(f\"Predicted Min Value: {y_min_predicted}\")\n",
    "# print(f\"Actual Max Value: {y_max_actual}\")\n",
    "# print(f\"Predicted Max Value: {y_max_predicted}\")\n",
    "\n",
    "# plt.scatter(X, y, c='blue')\n",
    "# plt.plot([x_min, x_max], [y_min, y_max], c='red')"
   ]
  },
  {
   "cell_type": "code",
   "execution_count": null,
   "metadata": {},
   "outputs": [],
   "source": []
  }
 ],
 "metadata": {
  "kernelspec": {
   "display_name": "Python 3.9.7 ('base')",
   "language": "python",
   "name": "python3"
  },
  "language_info": {
   "codemirror_mode": {
    "name": "ipython",
    "version": 3
   },
   "file_extension": ".py",
   "mimetype": "text/x-python",
   "name": "python",
   "nbconvert_exporter": "python",
   "pygments_lexer": "ipython3",
   "version": "3.9.7"
  },
  "orig_nbformat": 4,
  "vscode": {
   "interpreter": {
    "hash": "44c84064d006807177f4d43dc2fb94f3cbd405eecc9890b8e78f4aa6080cdef3"
   }
  }
 },
 "nbformat": 4,
 "nbformat_minor": 2
}
